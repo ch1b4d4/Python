{
 "cells": [
  {
   "cell_type": "markdown",
   "metadata": {},
   "source": [
    "# Question 1"
   ]
  },
  {
   "cell_type": "code",
   "execution_count": 64,
   "metadata": {},
   "outputs": [],
   "source": [
    "from scipy import stats\n",
    "from scipy.stats import norm\n",
    "import numpy as np\n",
    "\n",
    "# from .stats import *\n"
   ]
  },
  {
   "cell_type": "code",
   "execution_count": 65,
   "metadata": {},
   "outputs": [],
   "source": [
    "def score (m1,m2,std,n):\n",
    "    if n>30: # Calculating Z Test score\n",
    "        score = (m2 - m1)/((std)/(n**0.5))\n",
    "        print(f\"This is the Z - Test Statistic: {score}, and this is the P-value:\")\n",
    "   \n",
    "    else: # Calculating T Test score\n",
    "        score = (m2 - m1)/((std)/(n**0.5))\n",
    "        print(f\"\\nThis is the T - Test Statistic: {score}, and this is the P-value:\")\n",
    "\n",
    "    prob = stats.norm.cdf(score)\n",
    "    \n",
    "    return prob"
   ]
  },
  {
   "cell_type": "markdown",
   "metadata": {},
   "source": [
    "The Ministry of Roads and Transportation requires tire manufacturers to provide performance information on tire sidewalls to help prospective buyers make their purchasing decisions. One very important piece of information is the tread wear index, which indicates the tire’s resistance to tread wear. A tire with a grade of 200 should last twice as long, on average, as a tire with a grade of 100. A consumer organization wants to test the actual tread wear index of a brand name of tires that claims “graded 200” on the sidewall of the tire. A random sample of n = 18 indicates a sample mean tread wear index of 195.3 and a sample standard devia- tion of 21.4.\n",
    "\n",
    "1. Is there evidence that the population mean tread wear index is different from 200? (Use a 0.05 level of significance.)\n",
    "2. Determine the p-value and interpret its meaning."
   ]
  },
  {
   "cell_type": "code",
   "execution_count": 66,
   "metadata": {},
   "outputs": [
    {
     "data": {
      "text/plain": [
       "-0.9317949172645136"
      ]
     },
     "execution_count": 66,
     "metadata": {},
     "output_type": "execute_result"
    }
   ],
   "source": [
    "# t Test for Hypothesis of the Mean\n",
    "#\n",
    "# h0 = 200 \n",
    "# h1 =! 200 claim\n",
    "\n",
    "m1 = 200\n",
    "m2 = 195.3\n",
    "n = 18\n",
    "std = 21.4\n",
    "alpha = 0.05\n",
    "\n",
    "# One sample T-Test\n",
    "\n",
    "tscore = (m2 - m1)/((std)/(n**0.5))\n",
    "tscore"
   ]
  },
  {
   "cell_type": "code",
   "execution_count": 67,
   "metadata": {},
   "outputs": [
    {
     "data": {
      "text/plain": [
       "0.009815328628645334"
      ]
     },
     "execution_count": 67,
     "metadata": {},
     "output_type": "execute_result"
    }
   ],
   "source": [
    "prob = stats.norm.cdf(tscore)\n",
    "prob\n",
    "0.0098153286286453336"
   ]
  },
  {
   "cell_type": "markdown",
   "metadata": {},
   "source": [
    "The P-Value above is 0.9 which is clearly 0.09 < 0.05 where we reject the null hypothesis that states 200 thread lasts twice as long as a 100 thread tire."
   ]
  },
  {
   "cell_type": "markdown",
   "metadata": {},
   "source": [
    "# Question 2\n",
    "The following data represents the amount of soft drink filled in a sample of 50 consecutive 2-liter bottles. The results, listed horizontally in the order of being filled, were:\n",
    "\n",
    "2.109 2.086 2.036 2.038 2.015 2.014 2.005 2.003 1.984 1.981 1.963 1.957 1.908 1.894 2.066 2.075 2.031 2.029 2.013 2.014 1.999 1.996 1.973 1.975 1.951 1.951 2.065 2.057 2.025 2.029 2.012 2.012 1.997 1.992 1.971 1.969 1.947 1.941 2.052 2.044 2.023 2.020 2.012 2.010 1.994 1.986 1.966 1.967 1.941 1.938\n",
    "\n",
    "1. At the 0.05 level of significance, is there evidence that the mean amount of soft drink filled is different from 2.0 liters?\n",
    "\n",
    "2. Determine the p-value in (1) and interpret its meaning.\n",
    "\n",
    "3. In (1), you assumed that the distribution of the amount of soft drink filled was normally distributed. Evaluate this assumption by constructing a boxplot or a normal probability plot.\n",
    "\n",
    "4. Do you think that the assumption needed in order to conduct the t test in (1) is valid? Explain.\n",
    "\n",
    "5. Examine the values of the 50 bottles in their sequential order, as given in the problem. Does there appear to be a pattern to the results? If so, what impact might this pattern have on the validity of the results in (1)?"
   ]
  },
  {
   "cell_type": "code",
   "execution_count": 68,
   "metadata": {},
   "outputs": [
    {
     "name": "stdout",
     "output_type": "stream",
     "text": [
      "This is the Z - Test Statistic: -0.11540472381096377, and this is the P-value:\n"
     ]
    },
    {
     "data": {
      "text/plain": [
       "0.4540621674607137"
      ]
     },
     "execution_count": 68,
     "metadata": {},
     "output_type": "execute_result"
    }
   ],
   "source": [
    "value_sum = np.array([2.109, 2.086, 2.036, 2.038, 2.015, 2.014, 2.005 ,2.003, 1.984 ,1.981 ,1.963 ,1.957,\n",
    "1.908 ,1.894 ,2.066, 2.075, 2.031, 2.029, 2.013, 2.014, 1.999 ,1.996 ,1.973 ,1.975, 1.951 ,1.951 ,\n",
    " 2.065, 2.057, 2.025 ,2.029, 2.012 ,2.012 ,1.997, 1.992 ,1.971, 1.969, 1.947, 1.941 ,2.052 ,\n",
    "2.044 ,2.023 ,2.020 ,2.012 ,2.010 ,1.994 ,1.986, 1.966 ,1.967 ,1.941 ,1.938])\n",
    "\n",
    "# print(f\"This is the sum: {value_sum.sum()}\")\n",
    "# print(f\"This is the mean: {value_sum.mean()}\")\n",
    "# print(f\"This is the std: {value_sum.std()}\")\n",
    "# print(f\"This is the len: {len(value_sum)}\")\n",
    "\n",
    "mean1 = value_sum.mean()\n",
    "mean2 = 2.0\n",
    "std = value_sum.std()\n",
    "n = 50\n",
    "# h0 = 2.0\n",
    "# h1 != 2.0 claim \n",
    "\n",
    "score(mean1,mean2,std,n)"
   ]
  },
  {
   "cell_type": "markdown",
   "metadata": {},
   "source": [
    "# Question 3\n",
    "The population mean waiting time to check out of a supermarket has been 4 minutes. recently, in an effort to reduce the waiting time, the supermarket has experimented with a system in which infrared cameras use body heat and in-store software to determine how many lanes should be opened. A sample of 100 customers was selected, and their mean waiting time to check out was 3.25 minutes, with a sample standard deviation of 2.7 minutes.\n",
    "\n",
    "1. At the 0.05 level of significance, using the p-value approach to hypothesis testing, is there evidence that the population mean waiting time to check out is less than 4 minutes?\n",
    "\n",
    "2. Interpret the meaning of the p-value in this problem."
   ]
  },
  {
   "cell_type": "code",
   "execution_count": 69,
   "metadata": {},
   "outputs": [
    {
     "name": "stdout",
     "output_type": "stream",
     "text": [
      "\n",
      "This is the Zscore: -0.27777777777777773\n",
      "\n",
      "This is the Pvalue: 0.39059147543357503\n"
     ]
    }
   ],
   "source": [
    "mean1 = 4\n",
    "n = 100\n",
    "mean2 = 3.25\n",
    "std = 2.7\n",
    "p = 0.05  \n",
    "\n",
    "zscore = (3.25 - 4)/2.7\n",
    "print(f\"\\nThis is the Zscore: {zscore}\")\n",
    "print(f\"\\nThis is the Pvalue: {stats.norm.cdf(zscore)}\")\n",
    "\n",
    "# h0 = time used is 4 minutes\n",
    "# h1 = time used is less than 4 minutes\n",
    "# Interprattion:\n",
    "# the pvalue represents 39,0 % hence it being > than the 5% thus clearly stating\n",
    "# that there is no differernce from the first instance and after the test\n"
   ]
  },
  {
   "cell_type": "markdown",
   "metadata": {},
   "source": [
    "# Question 4\n",
    "\n",
    "A survey of nonprofit organizations showed that online fun- draising has increased in the past year. Based on a random sample of 55 nonprofit organizations, the mean one-time gift donation in the past year was Ksh. 750, with a standard deviation of Ksh. 900.\n",
    "\n",
    "1. If you test the null hypothesis at the 0.01 level of significance, is there evidence that the mean one-time gift donation is greater than Ksh. 700?\n",
    "2. Interpret the meaning of the p-value in this problem."
   ]
  },
  {
   "cell_type": "code",
   "execution_count": 72,
   "metadata": {},
   "outputs": [
    {
     "name": "stdout",
     "output_type": "stream",
     "text": [
      "\n",
      "This is the Zscore: -0.05555555555555555\n",
      "\n",
      "This is the Pvalue: 0.4778479356582178\n"
     ]
    }
   ],
   "source": [
    "n = 55\n",
    "mean1 = 750\n",
    "std = 900\n",
    "\n",
    "pvalue = 0.01\n",
    "mean2 > 700\n",
    "\n",
    "zscore = (700 - 750)/900\n",
    "print(f\"\\nThis is the Zscore: {zscore}\")\n",
    "print(f\"\\nThis is the Pvalue: {stats.norm.cdf(zscore)}\")"
   ]
  },
  {
   "cell_type": "markdown",
   "metadata": {},
   "source": [
    "# Question 5\n",
    "A problem with a phone line that prevents a customer from receiving or making calls is upsetting to both the customer and the telecommunications company. The file Phone contains samples of 20 problems reported to two different offices of a telecommuni- cations company and the time to clear these problems (in minutes) from the customers’ lines:\n",
    "\n",
    "Central Office I Time to Clear Problems (minutes) 1.48 1.75 0.78 2.85 0.52 1.60 4.15 3.97 1.48 3.10 1.02 0.53 0.93 1.60 0.80 1.05 6.32 3.93 5.45 0.97\n",
    "\n",
    "Central Office II Time to Clear Problems (minutes) 7.55 3.75 0.10 1.10 0.60 0.52 3.30 2.10 0.58 4.02 3.75 0.65 1.92 0.60 1.53 4.23 0.08 1.48 1.65 0.72\n",
    "\n",
    "1. Assuming that the population variances from both offices are equal, is there evidence of a difference in the mean waiting time between the two offices? (Use a = 0.05.)\n",
    "2. Find the p-value in (1) and interpret its meaning.\n",
    "3. What other assumption is necessary in (1)?\n",
    "4. Assuming that the population variances from both offices are equal, construct and interpret a 95% confidence interval estimate of the difference between the population means in the two offices."
   ]
  },
  {
   "cell_type": "markdown",
   "metadata": {},
   "source": [
    "# Question 6\n",
    "\n",
    "A bank with a branch located in a commercial district of a city has the business objective of developing an improved process for serving customers during the noon-to-1 p.m. lunch period. Management decides to first study the waiting time in the current process. The waiting time is defined as the number of minutes that elapses from when the customer enters the line until he or she reaches the teller window. Data are collected from a random sample of 15 customers and stored in Bank1.\n",
    "\n",
    "These data are: 4.21 5.55 3.02 5.13 4.77 2.34 3.54 3.20 4.50 6.10 0.38 5.12 6.46 6.19 3.79\n",
    "\n",
    "Suppose that another branch, located in a residential area, is also concerned with improving the process of serving customers in the noon-to-1 p.m. lunch period. Data are collected from a random sample of 15 customers and stored in Bank2.\n",
    "\n",
    "These data are: 9.66 5.90 8.02 5.79 8.73 3.82 8.01 8.35 10.49 6.68 5.64 4.08 6.17 9.91 5.47\n",
    "\n",
    "1. Assuming that the population variances from both banks are equal, is there evidence of a difference in the mean waiting time between the two branches? (Use a = 0.05.)\n",
    "2. Determine the p-value in (a) and interpret its meaning.\n",
    "3. In addition to equal variances, what other assumption is neces- sary in (a)?\n",
    "4. Construct and interpret a 95% confidence interval estimate of the difference between the population means in the two branches."
   ]
  },
  {
   "cell_type": "code",
   "execution_count": null,
   "metadata": {},
   "outputs": [],
   "source": []
  }
 ],
 "metadata": {
  "interpreter": {
   "hash": "31f2aee4e71d21fbe5cf8b01ff0e069b9275f58929596ceb00d14d90e3e16cd6"
  },
  "kernelspec": {
   "display_name": "Python 3.8.9 64-bit",
   "language": "python",
   "name": "python3"
  },
  "language_info": {
   "codemirror_mode": {
    "name": "ipython",
    "version": 3
   },
   "file_extension": ".py",
   "mimetype": "text/x-python",
   "name": "python",
   "nbconvert_exporter": "python",
   "pygments_lexer": "ipython3",
   "version": "3.8.9"
  },
  "orig_nbformat": 4
 },
 "nbformat": 4,
 "nbformat_minor": 2
}
