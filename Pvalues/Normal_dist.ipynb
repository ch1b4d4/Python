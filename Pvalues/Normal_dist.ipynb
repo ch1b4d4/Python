{
 "cells": [
  {
   "cell_type": "code",
   "execution_count": 2,
   "metadata": {},
   "outputs": [],
   "source": [
    "# Example 1\n",
    "# ---\n",
    "# Let's see an example of MLE and distribution fitting with Python from a random sample.\n",
    "# ---\n",
    "# \n",
    "\n",
    "# Importing the libraries to be used\n",
    "# \n",
    "from scipy.stats import norm\n",
    "import matplotlib.pyplot as plt\n",
    "import numpy as np"
   ]
  },
  {
   "cell_type": "code",
   "execution_count": 3,
   "metadata": {},
   "outputs": [
    {
     "data": {
      "text/plain": [
       "array([-1.28433612, -1.41461708, -0.02985618,  0.2488005 ,  0.19480846,\n",
       "       -0.2241946 , -0.30235597,  0.37121303, -0.70390542, -1.21173237,\n",
       "        0.20036651,  1.81331302, -0.67769059, -1.24670057,  0.86422017,\n",
       "        0.63139291,  0.95733687,  0.54225601, -0.56842681, -1.12227943,\n",
       "        0.16689034,  1.20623178,  0.49874733, -1.1238399 ,  0.98235668,\n",
       "       -0.41675875,  0.28526525,  0.49502127, -0.2877772 , -1.49546981,\n",
       "       -0.01708795,  0.78296806, -0.47088191, -0.41554675,  1.07023672,\n",
       "        0.0747994 ,  1.05024912,  0.28902175,  0.88996782, -0.25705592,\n",
       "       -0.30502   ,  0.63639415, -0.33946615, -0.6107237 ,  1.31142458,\n",
       "        0.77914907, -0.01226578,  0.29628445,  0.50074687, -0.49131946,\n",
       "        0.37547087, -1.18546391,  0.12825221, -1.04032483,  0.55607222,\n",
       "        1.15567248,  1.23078063,  0.15562178, -0.92520899,  0.08042099,\n",
       "        0.6249566 , -0.56171496, -1.09272321,  1.31789258, -1.86362194,\n",
       "       -0.2360444 , -0.15245283,  0.98794592, -0.01692898, -2.27383875,\n",
       "       -1.02509451, -0.15255289, -0.37813634,  0.83161611, -0.32660335,\n",
       "       -0.35466532, -0.50645237,  0.73974821,  0.68071352, -1.22142478,\n",
       "        1.08023514,  0.57526975,  0.84506957, -0.92359263,  1.44710769,\n",
       "       -0.95434636, -1.53017376, -1.05509237, -0.70930489,  0.17054455,\n",
       "       -0.93224808,  0.47695772, -0.34540138,  0.99195344,  0.47409312,\n",
       "        1.13213256,  0.53310197, -0.97846895, -0.53223477, -0.10325   ,\n",
       "       -0.53533935, -1.10959131, -0.95404983,  1.40554549, -0.64148783,\n",
       "       -0.5108172 , -0.18673544,  1.03698472,  1.47679845, -0.61963694,\n",
       "       -1.51843386,  0.16798289,  0.18888828, -0.26882009, -0.87031389,\n",
       "       -1.32761801, -0.2945727 ,  0.74278942, -0.82614674, -0.39015688,\n",
       "       -1.25922833, -1.92131066, -0.0175408 ,  0.7365    , -0.47577055,\n",
       "       -1.14650013,  0.79190072, -0.20945316, -0.59981436, -0.32705951,\n",
       "        0.14083577, -0.30567838,  0.09499396,  0.8604339 , -0.87090046,\n",
       "       -0.9010352 , -0.99148788, -0.69064933, -1.48063233, -0.72115344,\n",
       "        1.44943503,  0.88148719,  1.02061097,  2.67751435,  1.37438954,\n",
       "        1.06509132,  3.01439926,  0.70666183, -0.96848971,  0.12269209,\n",
       "        1.62486601,  0.9737261 ,  1.54325485, -0.27056666,  0.02630001,\n",
       "       -0.01143975,  0.08319263,  1.18060301,  1.05468449, -0.91914244,\n",
       "       -0.35971158, -0.06490701, -0.54055769, -0.07887718,  0.92391393,\n",
       "        1.84758463, -0.85812442,  0.01595072, -1.44744139, -0.53728315,\n",
       "        1.30273614, -0.10441648,  0.78362738,  1.00173012,  1.89740111,\n",
       "        0.93653925, -1.66803819, -0.39178427,  1.61138346, -0.97058052,\n",
       "       -0.32601453, -0.35589894, -1.58120744,  0.39722235, -1.00110033,\n",
       "        1.03912696,  0.17844527, -0.59940045,  0.7080634 , -0.20622754,\n",
       "        0.67189159, -0.65026389, -1.76849081,  0.22010171, -0.38393873,\n",
       "        0.85727438, -0.76052527, -1.4970753 , -2.12378143, -0.68635698])"
      ]
     },
     "execution_count": 3,
     "metadata": {},
     "output_type": "execute_result"
    }
   ],
   "source": [
    "# Generating an array of 200 random sample from a normal dist with \n",
    "# mean 0 and stdv 1\n",
    "#\n",
    "random_sample = norm.rvs(loc=0,scale=1,size=200) \n",
    "random_sample"
   ]
  },
  {
   "cell_type": "code",
   "execution_count": 4,
   "metadata": {},
   "outputs": [],
   "source": [
    "# Distribution fitting\n",
    "# norm.fit(data) returns a list of two parameters \n",
    "# (mean, parameters[0] and std, parameters[1]) via a MLE approach \n",
    "# to data, which should be in array form.\n",
    "#\n",
    "parameters = norm.fit(random_sample)"
   ]
  },
  {
   "cell_type": "code",
   "execution_count": 5,
   "metadata": {},
   "outputs": [
    {
     "name": "stdout",
     "output_type": "stream",
     "text": [
      "(-0.024718021116396375, 0.9363110544844759)\n"
     ]
    }
   ],
   "source": [
    "print(parameters)"
   ]
  },
  {
   "cell_type": "code",
   "execution_count": 6,
   "metadata": {},
   "outputs": [],
   "source": [
    "# now, parameters[0] and parameters[1] are the mean and \n",
    "# the standard deviation of the fitted distribution\n",
    "#\n",
    "x = np.linspace(-5,5,100)"
   ]
  },
  {
   "cell_type": "code",
   "execution_count": 7,
   "metadata": {},
   "outputs": [],
   "source": [
    "# Generateingthe pdf - probability density function (fitted distribution)\n",
    "# \n",
    "fitted_pdf = norm.pdf(x,loc = parameters[0],scale = parameters[1])"
   ]
  },
  {
   "cell_type": "code",
   "execution_count": 8,
   "metadata": {},
   "outputs": [],
   "source": [
    "# Generating the pdf - probability density function (normal distribution non fitted)\n",
    "# \n",
    "normal_pdf = norm.pdf(x)"
   ]
  },
  {
   "cell_type": "code",
   "execution_count": 9,
   "metadata": {},
   "outputs": [
    {
     "data": {
      "image/png": "[encoded data removed]",
      "text/plain": [
       "<Figure size 432x288 with 1 Axes>"
      ]
     },
     "metadata": {
      "needs_background": "light"
     },
     "output_type": "display_data"
    }
   ],
   "source": [
    "# Then finally displaying our plot\n",
    "# \n",
    "plt.plot(x,fitted_pdf,\"red\",label=\"Fitted normal dist\",linestyle=\"dashed\", linewidth=2)\n",
    "plt.plot(x,normal_pdf,\"blue\",label=\"Normal dist\", linewidth=2)\n",
    "plt.hist(random_sample, density=1,color=\"cyan\",alpha=.3) #alpha, from 0 (transparent) to 1 (opaque)\n",
    "plt.title(\"Normal distribution fitting\") \n",
    "plt.legend() \n",
    "plt.show()"
   ]
  },
  {
   "cell_type": "code",
   "execution_count": 10,
   "metadata": {},
   "outputs": [
    {
     "data": {
      "text/plain": [
       "array([-1.75914522e-01, -2.07982948e-01, -9.05378709e-01, -7.11212952e-01,\n",
       "        1.86333801e+00,  8.18989618e-02,  1.41360476e-01, -2.46058840e-01,\n",
       "        1.26215857e+00, -1.69523747e+00, -7.01793992e-01, -1.07709975e+00,\n",
       "       -8.05521555e-01, -3.71975647e-01,  7.01918795e-02, -2.25700535e-01,\n",
       "       -2.64803053e+00,  1.28126078e+00, -2.16672347e+00, -3.57887521e-01,\n",
       "        9.53821296e-01,  1.54105658e+00, -1.65074545e+00,  5.07544840e-01,\n",
       "        3.55583268e-01,  7.66050848e-01,  7.17723927e-01, -3.72291152e-02,\n",
       "       -1.43470669e-02,  1.14478749e-03, -2.14064219e+00, -6.27914231e-01,\n",
       "       -3.32893521e-01, -3.58794784e-01, -4.15607402e-01, -1.06401783e+00,\n",
       "        2.69485796e-01, -7.49067490e-01, -4.00317165e-02,  9.14690587e-01,\n",
       "       -3.23176658e-01, -2.08676785e-01, -3.61649276e-01, -1.45745600e+00,\n",
       "       -1.81597090e+00, -2.86287269e-01, -1.79909866e-01,  1.24102036e+00,\n",
       "       -7.66044243e-01,  2.21952097e+00])"
      ]
     },
     "execution_count": 10,
     "metadata": {},
     "output_type": "execute_result"
    }
   ],
   "source": [
    "# Challenge 1\n",
    "# ---\n",
    "# Generate a random sample of size 50 and fit the data to a normal distribution\n",
    "# ---\n",
    "# \n",
    "random_sample1 = norm.rvs(loc=0,scale=1,size=50) \n",
    "random_sample1"
   ]
  },
  {
   "cell_type": "code",
   "execution_count": 11,
   "metadata": {},
   "outputs": [],
   "source": [
    "# Distribution fitting\n",
    "# norm.fit(data) returns a list of two parameters \n",
    "# (mean, parameters[0] and std, parameters[1]) via a MLE approach \n",
    "# to data, which should be in array form.\n",
    "#\n",
    "parameters1 = norm.fit(random_sample1)"
   ]
  },
  {
   "cell_type": "code",
   "execution_count": 12,
   "metadata": {},
   "outputs": [],
   "source": [
    "# now, parameters[0] and parameters[1] are the mean and \n",
    "# the standard deviation of the fitted distribution\n",
    "#\n",
    "x1 = np.linspace(-5,5,50)"
   ]
  },
  {
   "cell_type": "code",
   "execution_count": 13,
   "metadata": {},
   "outputs": [],
   "source": [
    "# Generateingthe pdf - probability density function (fitted distribution)\n",
    "# \n",
    "fitted_pdf1 = norm.pdf(x1,loc = parameters1[0],scale = parameters1[1])"
   ]
  },
  {
   "cell_type": "code",
   "execution_count": 14,
   "metadata": {},
   "outputs": [],
   "source": [
    "# Generating the pdf - probability density function (normal distribution non fitted)\n",
    "# \n",
    "normal_pdf1 = norm.pdf(x1)"
   ]
  },
  {
   "cell_type": "code",
   "execution_count": 15,
   "metadata": {},
   "outputs": [
    {
     "data": {
      "image/png": "[encoded data removed]",
      "text/plain": [
       "<Figure size 432x288 with 1 Axes>"
      ]
     },
     "metadata": {
      "needs_background": "light"
     },
     "output_type": "display_data"
    }
   ],
   "source": [
    "# Then finally displaying our plot\n",
    "# \n",
    "plt.plot(x1,fitted_pdf1,\"red\",label=\"Fitted normal dist\",linestyle=\"dashed\", linewidth=2)\n",
    "plt.plot(x1,normal_pdf1,\"blue\",label=\"Normal dist\", linewidth=2)\n",
    "plt.hist(random_sample1, density=1,color=\"cyan\",alpha=.3) #alpha, from 0 (transparent) to 1 (opaque)\n",
    "plt.title(\"Normal distribution fitting\") \n",
    "plt.legend() \n",
    "plt.show()"
   ]
  },
  {
   "cell_type": "markdown",
   "metadata": {},
   "source": [
    "# Chalenge 2"
   ]
  },
  {
   "cell_type": "code",
   "execution_count": 16,
   "metadata": {},
   "outputs": [
    {
     "data": {
      "text/plain": [
       "StandardScaler()"
      ]
     },
     "execution_count": 16,
     "metadata": {},
     "output_type": "execute_result"
    }
   ],
   "source": [
    "# Challenge 2\n",
    "# ---\n",
    "# Fit the following data to a normal distribution\n",
    "# ---\n",
    "# 7.62 6.30 5.83 6.50 8.34 9.81 7.10 6.80 5.90 7.89 6.50 5.52 7.90 6.30 9.10\n",
    "# ---\n",
    "# \n",
    "from sklearn.preprocessing import StandardScaler\n",
    "#data = np.array[(7.62, 6.30), (5.83, 6.50), (8.34, 9.81), (7.10, 6.80), (5.90, 7.89), (6.50, 5.52), (7.90, 6.30)] #, 9.10]\n",
    "data = (7.62, 6.30, 5.83, 6.50, 8.34, 9.81, 7.10, 6.80, 5.90, 7.89, 6.50, 5.52, 7.90, 6.30, 9.10)\n",
    "scaler = StandardScaler()\n",
    "#print(scaler.fit(data))\n",
    "StandardScaler(copy=True, with_mean=True, with_std=True)\n"
   ]
  },
  {
   "cell_type": "code",
   "execution_count": 17,
   "metadata": {},
   "outputs": [],
   "source": [
    "x = np.array([7.62, 6.30, 5.83, 6.50, 8.34, 9.81, 7.10, 6.80, 5.90, 7.89, 6.50, 5.52, 7.90, 6.30, 9.10])\n",
    "normal_data = np.linspace(4, 10, 100)\n",
    "parameters = norm.fit(normal_data)\n",
    "norm_mean = parameters[0]\n",
    "norm_std = parameters[1]"
   ]
  },
  {
   "cell_type": "code",
   "execution_count": 34,
   "metadata": {},
   "outputs": [
    {
     "ename": "ValueError",
     "evalue": "x and y must be the same size",
     "output_type": "error",
     "traceback": [
      "\u001b[0;31m---------------------------------------------------------------------------\u001b[0m",
      "\u001b[0;31mValueError\u001b[0m                                Traceback (most recent call last)",
      "\u001b[1;32m/Users/la/Documents/Python/Pvalues/Normal_dist.ipynb Cell 18'\u001b[0m in \u001b[0;36m<module>\u001b[0;34m\u001b[0m\n\u001b[1;32m     <a href='vscode-notebook-cell:/Users/la/Documents/Python/Pvalues/Normal_dist.ipynb#ch0000017?line=10'>11</a>\u001b[0m plt\u001b[39m.\u001b[39mplot(x, x_fitted,color \u001b[39m=\u001b[39m \u001b[39m'\u001b[39m\u001b[39mr\u001b[39m\u001b[39m'\u001b[39m, label \u001b[39m=\u001b[39m \u001b[39m'\u001b[39m\u001b[39mx fitted\u001b[39m\u001b[39m'\u001b[39m)\n\u001b[1;32m     <a href='vscode-notebook-cell:/Users/la/Documents/Python/Pvalues/Normal_dist.ipynb#ch0000017?line=11'>12</a>\u001b[0m plt\u001b[39m.\u001b[39mplot(x, x_norm, color\u001b[39m=\u001b[39m\u001b[39m'\u001b[39m\u001b[39mb\u001b[39m\u001b[39m'\u001b[39m, label\u001b[39m=\u001b[39m\u001b[39m'\u001b[39m\u001b[39mx_normal\u001b[39m\u001b[39m'\u001b[39m)\n\u001b[0;32m---> <a href='vscode-notebook-cell:/Users/la/Documents/Python/Pvalues/Normal_dist.ipynb#ch0000017?line=12'>13</a>\u001b[0m plt\u001b[39m.\u001b[39;49mscatter(x_fitted,normal_data,density\u001b[39m=\u001b[39;49m\u001b[39m1\u001b[39;49m,color\u001b[39m=\u001b[39;49m\u001b[39m\"\u001b[39;49m\u001b[39mcyan\u001b[39;49m\u001b[39m\"\u001b[39;49m, alpha\u001b[39m=\u001b[39;49m\u001b[39m.3\u001b[39;49m)\n\u001b[1;32m     <a href='vscode-notebook-cell:/Users/la/Documents/Python/Pvalues/Normal_dist.ipynb#ch0000017?line=13'>14</a>\u001b[0m \u001b[39m#x, y, s=area, c=colors, alpha=0.5\u001b[39;00m\n\u001b[1;32m     <a href='vscode-notebook-cell:/Users/la/Documents/Python/Pvalues/Normal_dist.ipynb#ch0000017?line=14'>15</a>\u001b[0m plt\u001b[39m.\u001b[39mlegend()\n",
      "File \u001b[0;32m~/Library/Python/3.8/lib/python/site-packages/matplotlib/pyplot.py:2807\u001b[0m, in \u001b[0;36mscatter\u001b[0;34m(x, y, s, c, marker, cmap, norm, vmin, vmax, alpha, linewidths, edgecolors, plotnonfinite, data, **kwargs)\u001b[0m\n\u001b[1;32m   <a href='file:///~/Library/Python/3.8/lib/python/site-packages/matplotlib/pyplot.py?line=2801'>2802</a>\u001b[0m \u001b[39m@_copy_docstring_and_deprecators\u001b[39m(Axes\u001b[39m.\u001b[39mscatter)\n\u001b[1;32m   <a href='file:///~/Library/Python/3.8/lib/python/site-packages/matplotlib/pyplot.py?line=2802'>2803</a>\u001b[0m \u001b[39mdef\u001b[39;00m \u001b[39mscatter\u001b[39m(\n\u001b[1;32m   <a href='file:///~/Library/Python/3.8/lib/python/site-packages/matplotlib/pyplot.py?line=2803'>2804</a>\u001b[0m         x, y, s\u001b[39m=\u001b[39m\u001b[39mNone\u001b[39;00m, c\u001b[39m=\u001b[39m\u001b[39mNone\u001b[39;00m, marker\u001b[39m=\u001b[39m\u001b[39mNone\u001b[39;00m, cmap\u001b[39m=\u001b[39m\u001b[39mNone\u001b[39;00m, norm\u001b[39m=\u001b[39m\u001b[39mNone\u001b[39;00m,\n\u001b[1;32m   <a href='file:///~/Library/Python/3.8/lib/python/site-packages/matplotlib/pyplot.py?line=2804'>2805</a>\u001b[0m         vmin\u001b[39m=\u001b[39m\u001b[39mNone\u001b[39;00m, vmax\u001b[39m=\u001b[39m\u001b[39mNone\u001b[39;00m, alpha\u001b[39m=\u001b[39m\u001b[39mNone\u001b[39;00m, linewidths\u001b[39m=\u001b[39m\u001b[39mNone\u001b[39;00m, \u001b[39m*\u001b[39m,\n\u001b[1;32m   <a href='file:///~/Library/Python/3.8/lib/python/site-packages/matplotlib/pyplot.py?line=2805'>2806</a>\u001b[0m         edgecolors\u001b[39m=\u001b[39m\u001b[39mNone\u001b[39;00m, plotnonfinite\u001b[39m=\u001b[39m\u001b[39mFalse\u001b[39;00m, data\u001b[39m=\u001b[39m\u001b[39mNone\u001b[39;00m, \u001b[39m*\u001b[39m\u001b[39m*\u001b[39mkwargs):\n\u001b[0;32m-> <a href='file:///~/Library/Python/3.8/lib/python/site-packages/matplotlib/pyplot.py?line=2806'>2807</a>\u001b[0m     __ret \u001b[39m=\u001b[39m gca()\u001b[39m.\u001b[39;49mscatter(\n\u001b[1;32m   <a href='file:///~/Library/Python/3.8/lib/python/site-packages/matplotlib/pyplot.py?line=2807'>2808</a>\u001b[0m         x, y, s\u001b[39m=\u001b[39;49ms, c\u001b[39m=\u001b[39;49mc, marker\u001b[39m=\u001b[39;49mmarker, cmap\u001b[39m=\u001b[39;49mcmap, norm\u001b[39m=\u001b[39;49mnorm,\n\u001b[1;32m   <a href='file:///~/Library/Python/3.8/lib/python/site-packages/matplotlib/pyplot.py?line=2808'>2809</a>\u001b[0m         vmin\u001b[39m=\u001b[39;49mvmin, vmax\u001b[39m=\u001b[39;49mvmax, alpha\u001b[39m=\u001b[39;49malpha, linewidths\u001b[39m=\u001b[39;49mlinewidths,\n\u001b[1;32m   <a href='file:///~/Library/Python/3.8/lib/python/site-packages/matplotlib/pyplot.py?line=2809'>2810</a>\u001b[0m         edgecolors\u001b[39m=\u001b[39;49medgecolors, plotnonfinite\u001b[39m=\u001b[39;49mplotnonfinite,\n\u001b[1;32m   <a href='file:///~/Library/Python/3.8/lib/python/site-packages/matplotlib/pyplot.py?line=2810'>2811</a>\u001b[0m         \u001b[39m*\u001b[39;49m\u001b[39m*\u001b[39;49m({\u001b[39m\"\u001b[39;49m\u001b[39mdata\u001b[39;49m\u001b[39m\"\u001b[39;49m: data} \u001b[39mif\u001b[39;49;00m data \u001b[39mis\u001b[39;49;00m \u001b[39mnot\u001b[39;49;00m \u001b[39mNone\u001b[39;49;00m \u001b[39melse\u001b[39;49;00m {}), \u001b[39m*\u001b[39;49m\u001b[39m*\u001b[39;49mkwargs)\n\u001b[1;32m   <a href='file:///~/Library/Python/3.8/lib/python/site-packages/matplotlib/pyplot.py?line=2811'>2812</a>\u001b[0m     sci(__ret)\n\u001b[1;32m   <a href='file:///~/Library/Python/3.8/lib/python/site-packages/matplotlib/pyplot.py?line=2812'>2813</a>\u001b[0m     \u001b[39mreturn\u001b[39;00m __ret\n",
      "File \u001b[0;32m~/Library/Python/3.8/lib/python/site-packages/matplotlib/__init__.py:1412\u001b[0m, in \u001b[0;36m_preprocess_data.<locals>.inner\u001b[0;34m(ax, data, *args, **kwargs)\u001b[0m\n\u001b[1;32m   <a href='file:///~/Library/Python/3.8/lib/python/site-packages/matplotlib/__init__.py?line=1408'>1409</a>\u001b[0m \u001b[39m@functools\u001b[39m\u001b[39m.\u001b[39mwraps(func)\n\u001b[1;32m   <a href='file:///~/Library/Python/3.8/lib/python/site-packages/matplotlib/__init__.py?line=1409'>1410</a>\u001b[0m \u001b[39mdef\u001b[39;00m \u001b[39minner\u001b[39m(ax, \u001b[39m*\u001b[39margs, data\u001b[39m=\u001b[39m\u001b[39mNone\u001b[39;00m, \u001b[39m*\u001b[39m\u001b[39m*\u001b[39mkwargs):\n\u001b[1;32m   <a href='file:///~/Library/Python/3.8/lib/python/site-packages/matplotlib/__init__.py?line=1410'>1411</a>\u001b[0m     \u001b[39mif\u001b[39;00m data \u001b[39mis\u001b[39;00m \u001b[39mNone\u001b[39;00m:\n\u001b[0;32m-> <a href='file:///~/Library/Python/3.8/lib/python/site-packages/matplotlib/__init__.py?line=1411'>1412</a>\u001b[0m         \u001b[39mreturn\u001b[39;00m func(ax, \u001b[39m*\u001b[39;49m\u001b[39mmap\u001b[39;49m(sanitize_sequence, args), \u001b[39m*\u001b[39;49m\u001b[39m*\u001b[39;49mkwargs)\n\u001b[1;32m   <a href='file:///~/Library/Python/3.8/lib/python/site-packages/matplotlib/__init__.py?line=1413'>1414</a>\u001b[0m     bound \u001b[39m=\u001b[39m new_sig\u001b[39m.\u001b[39mbind(ax, \u001b[39m*\u001b[39margs, \u001b[39m*\u001b[39m\u001b[39m*\u001b[39mkwargs)\n\u001b[1;32m   <a href='file:///~/Library/Python/3.8/lib/python/site-packages/matplotlib/__init__.py?line=1414'>1415</a>\u001b[0m     auto_label \u001b[39m=\u001b[39m (bound\u001b[39m.\u001b[39marguments\u001b[39m.\u001b[39mget(label_namer)\n\u001b[1;32m   <a href='file:///~/Library/Python/3.8/lib/python/site-packages/matplotlib/__init__.py?line=1415'>1416</a>\u001b[0m                   \u001b[39mor\u001b[39;00m bound\u001b[39m.\u001b[39mkwargs\u001b[39m.\u001b[39mget(label_namer))\n",
      "File \u001b[0;32m~/Library/Python/3.8/lib/python/site-packages/matplotlib/axes/_axes.py:4369\u001b[0m, in \u001b[0;36mAxes.scatter\u001b[0;34m(self, x, y, s, c, marker, cmap, norm, vmin, vmax, alpha, linewidths, edgecolors, plotnonfinite, **kwargs)\u001b[0m\n\u001b[1;32m   <a href='file:///~/Library/Python/3.8/lib/python/site-packages/matplotlib/axes/_axes.py?line=4366'>4367</a>\u001b[0m y \u001b[39m=\u001b[39m np\u001b[39m.\u001b[39mma\u001b[39m.\u001b[39mravel(y)\n\u001b[1;32m   <a href='file:///~/Library/Python/3.8/lib/python/site-packages/matplotlib/axes/_axes.py?line=4367'>4368</a>\u001b[0m \u001b[39mif\u001b[39;00m x\u001b[39m.\u001b[39msize \u001b[39m!=\u001b[39m y\u001b[39m.\u001b[39msize:\n\u001b[0;32m-> <a href='file:///~/Library/Python/3.8/lib/python/site-packages/matplotlib/axes/_axes.py?line=4368'>4369</a>\u001b[0m     \u001b[39mraise\u001b[39;00m \u001b[39mValueError\u001b[39;00m(\u001b[39m\"\u001b[39m\u001b[39mx and y must be the same size\u001b[39m\u001b[39m\"\u001b[39m)\n\u001b[1;32m   <a href='file:///~/Library/Python/3.8/lib/python/site-packages/matplotlib/axes/_axes.py?line=4370'>4371</a>\u001b[0m \u001b[39mif\u001b[39;00m s \u001b[39mis\u001b[39;00m \u001b[39mNone\u001b[39;00m:\n\u001b[1;32m   <a href='file:///~/Library/Python/3.8/lib/python/site-packages/matplotlib/axes/_axes.py?line=4371'>4372</a>\u001b[0m     s \u001b[39m=\u001b[39m (\u001b[39m20\u001b[39m \u001b[39mif\u001b[39;00m rcParams[\u001b[39m'\u001b[39m\u001b[39m_internal.classic_mode\u001b[39m\u001b[39m'\u001b[39m] \u001b[39melse\u001b[39;00m\n\u001b[1;32m   <a href='file:///~/Library/Python/3.8/lib/python/site-packages/matplotlib/axes/_axes.py?line=4372'>4373</a>\u001b[0m          rcParams[\u001b[39m'\u001b[39m\u001b[39mlines.markersize\u001b[39m\u001b[39m'\u001b[39m] \u001b[39m*\u001b[39m\u001b[39m*\u001b[39m \u001b[39m2.0\u001b[39m)\n",
      "\u001b[0;31mValueError\u001b[0m: x and y must be the same size"
     ]
    },
    {
     "data": {
      "image/png": "[encoded data removed]",
      "text/plain": [
       "<Figure size 432x288 with 1 Axes>"
      ]
     },
     "metadata": {
      "needs_background": "light"
     },
     "output_type": "display_data"
    }
   ],
   "source": [
    "\n",
    "x = np.array([7.62, 6.30, 5.83, 6.50, 8.34, 9.81, 7.10, 6.80, 5.90, 7.89, 6.50, 5.52, 7.90, 6.30, 9.10])\n",
    "\n",
    "normal_data = np.linspace(4, 10, 100)\n",
    "parameters = norm.fit(normal_data)\n",
    "norm_mean = parameters[0]\n",
    "norm_std = parameters[1]\n",
    "\n",
    "x_fitted = norm.pdf(x, loc = norm_mean, scale = norm_std)\n",
    "x_norm = norm.pdf(x)\n",
    "\n",
    "plt.plot(x, x_fitted,color = 'r', label = 'x fitted')\n",
    "plt.plot(x, x_norm, color='b', label='x_normal')\n",
    "plt.scatter(x_fitted,normal_data,density=1,color=\"cyan\", alpha=.3)\n",
    "#x, y, s=area, c=colors, alpha=0.5\n",
    "plt.legend()\n",
    "plt.show()"
   ]
  },
  {
   "cell_type": "code",
   "execution_count": null,
   "metadata": {},
   "outputs": [],
   "source": []
  },
  {
   "cell_type": "code",
   "execution_count": null,
   "metadata": {},
   "outputs": [],
   "source": [
    "# Challenge 3\n",
    "# ---\n",
    "# A manufacturing company produces steel housings for electrical equipment. \n",
    "# The main component part of the housing is a steel trough that is made out of a 14-gauge steel coil. \n",
    "# It is produced using a 250-ton progressive punch press with a wipe-down operation that puts \n",
    "# two 90-degree forms in the flat steel to make the trough. \n",
    "# The distance from one side of the form to the other is critical because of weatherproofing in outdoor applications. \n",
    "# The company requires that the width of the trough be between 8.31 inches and 8.61 inches. \n",
    "# Below is the widths of the troughs, in inches, for a sample of n = 49.\n",
    "# Fit the given data to a normal distibution\n",
    "# ---\n",
    "# 8.312 8.343 8.476 8.382 8.436 8.413 8.460 8.444 8.396 8.447\n",
    "# 8.317 8.383 8.484 8.403 8.489 8.414 8.429 8.460 8.405 8.439\n",
    "# 8.348 8.410 8.351 8.414 8.419 8.385 8.481 8.415 8.479 8.412 8.420 8.410 8.411 8.427 8.420\n",
    "# 8.373 8.481 8.465 8.498 8.429 8.458 8.405 8.323 8.498 8.409\n",
    "# 8.422 8.447 8.462 8.420\n",
    "# ---\n",
    "#\n"
   ]
  },
  {
   "cell_type": "code",
   "execution_count": 20,
   "metadata": {},
   "outputs": [
    {
     "data": {
      "text/plain": [
       "array([8.312, 8.343, 8.476, 8.382, 8.436, 8.413, 8.46 , 8.444, 8.396,\n",
       "       8.447, 8.317, 8.383, 8.484, 8.403, 8.489, 8.414, 8.429, 8.46 ,\n",
       "       8.405, 8.439, 8.348, 8.41 , 8.351, 8.414, 8.419, 8.385, 8.481,\n",
       "       8.415, 8.479, 8.412, 8.42 , 8.41 , 8.411, 8.427, 8.42 , 8.373,\n",
       "       8.481, 8.465, 8.498, 8.429, 8.458, 8.405, 8.323, 8.498, 8.409,\n",
       "       8.422, 8.447, 8.462, 8.42 ])"
      ]
     },
     "execution_count": 20,
     "metadata": {},
     "output_type": "execute_result"
    }
   ],
   "source": [
    "exercise = np.array([8.312, 8.343, 8.476, 8.382, 8.436, 8.413, 8.460, 8.444, 8.396, 8.447,\n",
    "8.317, 8.383, 8.484, 8.403, 8.489, 8.414, 8.429, 8.460, 8.405, 8.439,\n",
    "8.348, 8.410 ,8.351 ,8.414, 8.419, 8.385, 8.481, 8.415, 8.479, 8.412, 8.420, 8.410 ,8.411, 8.427, 8.420,\n",
    "8.373 ,8.481, 8.465, 8.498, 8.429, 8.458, 8.405, 8.323, 8.498, 8.409,\n",
    "8.422, 8.447, 8.462, 8.420])\n",
    "\n",
    "exercise"
   ]
  },
  {
   "cell_type": "code",
   "execution_count": 24,
   "metadata": {},
   "outputs": [],
   "source": [
    "# Distribution fitting\n",
    "# norm.fit(data) returns a list of two parameters \n",
    "# (mean, parameters[0] and std, parameters[1]) via a MLE approach \n",
    "# to data, which should be in array form.\n",
    "#\n",
    "parameters_1 = norm.fit(exercise)"
   ]
  },
  {
   "cell_type": "code",
   "execution_count": 29,
   "metadata": {},
   "outputs": [],
   "source": [
    "# now, parameters[0] and parameters[1] are the mean and \n",
    "# the standard deviation of the fitted distribution\n",
    "#\n",
    "x_1 = np.linspace(8.31,8.61,50)"
   ]
  },
  {
   "cell_type": "code",
   "execution_count": 31,
   "metadata": {},
   "outputs": [],
   "source": [
    "# Generateingthe pdf - probability density function (fitted distribution)\n",
    "# \n",
    "fitted_pdf_1 = norm.pdf(x_1,loc = parameters_1[0],scale = parameters_1[1])"
   ]
  },
  {
   "cell_type": "code",
   "execution_count": 30,
   "metadata": {},
   "outputs": [],
   "source": [
    "# Generating the pdf - probability density function (normal distribution non fitted)\n",
    "# \n",
    "normal_pdf_1 = norm.pdf(x_1)"
   ]
  },
  {
   "cell_type": "code",
   "execution_count": 32,
   "metadata": {},
   "outputs": [
    {
     "data": {
      "image/png": "[encoded data removed]",
      "text/plain": [
       "<Figure size 432x288 with 1 Axes>"
      ]
     },
     "metadata": {
      "needs_background": "light"
     },
     "output_type": "display_data"
    }
   ],
   "source": [
    "# Then finally displaying our plot\n",
    "# \n",
    "plt.plot(x_1,fitted_pdf_1,\"red\",label=\"Fitted normal dist\",linestyle=\"dashed\", linewidth=2)\n",
    "plt.plot(x_1,normal_pdf_1,\"blue\",label=\"Normal dist\", linewidth=2)\n",
    "plt.hist(exercise, density=1,color=\"cyan\",alpha=.3) #alpha, from 0 (transparent) to 1 (opaque)\n",
    "plt.title(\"Normal distribution fitting\") \n",
    "plt.legend() \n",
    "plt.show()"
   ]
  }
 ],
 "metadata": {
  "interpreter": {
   "hash": "31f2aee4e71d21fbe5cf8b01ff0e069b9275f58929596ceb00d14d90e3e16cd6"
  },
  "kernelspec": {
   "display_name": "Python 3.8.9 64-bit",
   "language": "python",
   "name": "python3"
  },
  "language_info": {
   "codemirror_mode": {
    "name": "ipython",
    "version": 3
   },
   "file_extension": ".py",
   "mimetype": "text/x-python",
   "name": "python",
   "nbconvert_exporter": "python",
   "pygments_lexer": "ipython3",
   "version": "3.8.9"
  },
  "orig_nbformat": 4
 },
 "nbformat": 4,
 "nbformat_minor": 2
}
