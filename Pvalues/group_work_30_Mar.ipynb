{
 "cells": [
  {
   "cell_type": "code",
   "execution_count": 13,
   "metadata": {},
   "outputs": [],
   "source": [
    "# generate random integer values\n",
    "from numpy.random import seed\n",
    "from numpy.random import randint\n",
    "import pandas as pd\n",
    "import numpy as np\n",
    "# seed random number generator\n",
    "seed(1)\n",
    "# generate some integers\n",
    "# values = randint(0, 10, 20)\n",
    "# print(values)\n"
   ]
  },
  {
   "cell_type": "code",
   "execution_count": 10,
   "metadata": {},
   "outputs": [
    {
     "name": "stdout",
     "output_type": "stream",
     "text": [
      "[1 2 1 1 2 2 2 2 2 1 1 1 2 1 2 2 1 2 2 1 1 2 2 1 2 2 2 2 1 2 1 1 1 1 1 2 1\n",
      " 1 1 1 2 1 1 2 1 2 2 1 2 1 2 1 2 1 1 1 1 2 1 2 2 2 2 2 1 2 1 2 1 1 1 1 2 2\n",
      " 1 1 1 1 2 1 1 2 2 2 2 1 2 2 1 2 1 1 2 1 1 1 2 2 2 2 1 1 1 1 2 1 2 2 1 1 2\n",
      " 2 1 2 2 1 1 1 1 2 1 1 1 1 2 1 2 1 1 2]\n"
     ]
    }
   ],
   "source": [
    "gender = randint(1, 3, 130)\n",
    "print(gender)"
   ]
  },
  {
   "cell_type": "code",
   "execution_count": 11,
   "metadata": {},
   "outputs": [
    {
     "name": "stdout",
     "output_type": "stream",
     "text": [
      "[2 6 1 3 4 7 7 1 7 5 8 4 4 8 4 1 7 4 2 7 3 1 7 2 7 5 3 4 5 6 5 7 3 7 2 3 7\n",
      " 8 6 1 8 6 4 6 4 3 7 1 7 1 1 1 7 8 3 5 1 8 5 2 3 2 3 5 2 4 6 2 6 2 3 7 5 2\n",
      " 1 7 8 3 6 2 3 1 1 6 4 5 2 6 1 5 1 7 4 3 5 4 3 5 3 5 1 1 6 8 5 3 3 5 3 7 4\n",
      " 6 1 8 1 5 4 5 8 4 4 5 1 7 8 6 4 6 2 5]\n"
     ]
    }
   ],
   "source": [
    "province = randint(1, 9, 130)\n",
    "print(province)"
   ]
  },
  {
   "cell_type": "code",
   "execution_count": 12,
   "metadata": {},
   "outputs": [
    {
     "name": "stdout",
     "output_type": "stream",
     "text": [
      "[2 1 2 1 1 1 1 1 1 1 1 1 1 2 1 2 1 1 2 2 1 1 2 2 2 1 2 2 1 2 2 2 2 1 2 1 2\n",
      " 2 2 2 1 2 2 2 1 1 2 1 2 2 1 1 2 1 1 1 1 1 1 2 2 2 1 1 2 1 2 1 1 2 2 2 1 2\n",
      " 1 1 1 2 2 2 2 1 2 1 2 1 1 1 1 2 1 1 1 2 2 2 2 1 1 1 2 1 1 1 2 2 1 1 1 2 2\n",
      " 1 2 2 2 2 2 2 1 2 2 1 1 2 2 2 2 2 2 1]\n"
     ]
    }
   ],
   "source": [
    "course = randint(1, 3, 130)\n",
    "print(course)"
   ]
  },
  {
   "cell_type": "code",
   "execution_count": 9,
   "metadata": {},
   "outputs": [
    {
     "name": "stdout",
     "output_type": "stream",
     "text": [
      "[19 20 30 25 20 28 18 27 24 20 25 25 34 33 23 28 34 23 31 19 28 18 25 18\n",
      " 32 31 29 24 31 33 27 20 25 23 22 23 26 31 33 31 26 32 31 34 28 31 21 20\n",
      " 32 32 18 29 21 19 20 34 18 28 26 31 21 18 26 31 33 27 18 30 28 30 33 32\n",
      " 29 25 21 33 32 20 22 22 18 21 23 24 33 25 23 33 18 28 28 20 20 22 18 32\n",
      " 25 21 24 27 28 31 24 24 34 34 30 27 18 34 27 34 33 28 22 32 32 21 34 32\n",
      " 33 25 32 31 33 32 30 23 30 30]\n"
     ]
    }
   ],
   "source": [
    "age = randint(18, 35, 130)\n",
    "print(age)"
   ]
  },
  {
   "cell_type": "code",
   "execution_count": 19,
   "metadata": {},
   "outputs": [
    {
     "data": {
      "text/html": [
       "<div>\n",
       "<style scoped>\n",
       "    .dataframe tbody tr th:only-of-type {\n",
       "        vertical-align: middle;\n",
       "    }\n",
       "\n",
       "    .dataframe tbody tr th {\n",
       "        vertical-align: top;\n",
       "    }\n",
       "\n",
       "    .dataframe thead th {\n",
       "        text-align: right;\n",
       "    }\n",
       "</style>\n",
       "<table border=\"1\" class=\"dataframe\">\n",
       "  <thead>\n",
       "    <tr style=\"text-align: right;\">\n",
       "      <th></th>\n",
       "      <th>age</th>\n",
       "      <th>gender</th>\n",
       "      <th>course</th>\n",
       "      <th>province</th>\n",
       "    </tr>\n",
       "  </thead>\n",
       "  <tbody>\n",
       "    <tr>\n",
       "      <th>0</th>\n",
       "      <td>19</td>\n",
       "      <td>1</td>\n",
       "      <td>2</td>\n",
       "      <td>2</td>\n",
       "    </tr>\n",
       "    <tr>\n",
       "      <th>1</th>\n",
       "      <td>20</td>\n",
       "      <td>2</td>\n",
       "      <td>1</td>\n",
       "      <td>6</td>\n",
       "    </tr>\n",
       "    <tr>\n",
       "      <th>2</th>\n",
       "      <td>30</td>\n",
       "      <td>1</td>\n",
       "      <td>2</td>\n",
       "      <td>1</td>\n",
       "    </tr>\n",
       "    <tr>\n",
       "      <th>3</th>\n",
       "      <td>25</td>\n",
       "      <td>1</td>\n",
       "      <td>1</td>\n",
       "      <td>3</td>\n",
       "    </tr>\n",
       "    <tr>\n",
       "      <th>4</th>\n",
       "      <td>20</td>\n",
       "      <td>2</td>\n",
       "      <td>1</td>\n",
       "      <td>4</td>\n",
       "    </tr>\n",
       "  </tbody>\n",
       "</table>\n",
       "</div>"
      ],
      "text/plain": [
       "   age  gender  course  province\n",
       "0   19       1       2         2\n",
       "1   20       2       1         6\n",
       "2   30       1       2         1\n",
       "3   25       1       1         3\n",
       "4   20       2       1         4"
      ]
     },
     "execution_count": 19,
     "metadata": {},
     "output_type": "execute_result"
    }
   ],
   "source": [
    "moringa =  {\n",
    "    \"age\": age,\n",
    "    \"gender\":gender,\n",
    "    \"course\":course,\n",
    "    \"province\":province\n",
    "}\n",
    "moringa\n",
    "\n",
    "df = pd.DataFrame(moringa, columns = [\"age\", \"gender\", \"course\", \"province\"])\n",
    "df.head()"
   ]
  },
  {
   "cell_type": "markdown",
   "metadata": {},
   "source": [
    "# Descriptive Statistics\n",
    "\n",
    "State the statistics that are a result of your data collection: sample size(s), sample\n",
    "mean(s) or proportion(s), and sample standard deviation(s)."
   ]
  },
  {
   "cell_type": "code",
   "execution_count": 20,
   "metadata": {},
   "outputs": [
    {
     "data": {
      "text/plain": [
       "(130, 4)"
      ]
     },
     "execution_count": 20,
     "metadata": {},
     "output_type": "execute_result"
    }
   ],
   "source": [
    "df.shape"
   ]
  },
  {
   "cell_type": "code",
   "execution_count": 21,
   "metadata": {},
   "outputs": [
    {
     "data": {
      "text/html": [
       "<div>\n",
       "<style scoped>\n",
       "    .dataframe tbody tr th:only-of-type {\n",
       "        vertical-align: middle;\n",
       "    }\n",
       "\n",
       "    .dataframe tbody tr th {\n",
       "        vertical-align: top;\n",
       "    }\n",
       "\n",
       "    .dataframe thead th {\n",
       "        text-align: right;\n",
       "    }\n",
       "</style>\n",
       "<table border=\"1\" class=\"dataframe\">\n",
       "  <thead>\n",
       "    <tr style=\"text-align: right;\">\n",
       "      <th></th>\n",
       "      <th>age</th>\n",
       "      <th>gender</th>\n",
       "      <th>course</th>\n",
       "      <th>province</th>\n",
       "    </tr>\n",
       "  </thead>\n",
       "  <tbody>\n",
       "    <tr>\n",
       "      <th>count</th>\n",
       "      <td>130.000000</td>\n",
       "      <td>130.000000</td>\n",
       "      <td>130.000000</td>\n",
       "      <td>130.000000</td>\n",
       "    </tr>\n",
       "    <tr>\n",
       "      <th>mean</th>\n",
       "      <td>26.607692</td>\n",
       "      <td>1.461538</td>\n",
       "      <td>1.507692</td>\n",
       "      <td>4.315385</td>\n",
       "    </tr>\n",
       "    <tr>\n",
       "      <th>std</th>\n",
       "      <td>5.197638</td>\n",
       "      <td>0.500447</td>\n",
       "      <td>0.501875</td>\n",
       "      <td>2.244838</td>\n",
       "    </tr>\n",
       "    <tr>\n",
       "      <th>min</th>\n",
       "      <td>18.000000</td>\n",
       "      <td>1.000000</td>\n",
       "      <td>1.000000</td>\n",
       "      <td>1.000000</td>\n",
       "    </tr>\n",
       "    <tr>\n",
       "      <th>25%</th>\n",
       "      <td>22.000000</td>\n",
       "      <td>1.000000</td>\n",
       "      <td>1.000000</td>\n",
       "      <td>2.250000</td>\n",
       "    </tr>\n",
       "    <tr>\n",
       "      <th>50%</th>\n",
       "      <td>27.000000</td>\n",
       "      <td>1.000000</td>\n",
       "      <td>2.000000</td>\n",
       "      <td>4.000000</td>\n",
       "    </tr>\n",
       "    <tr>\n",
       "      <th>75%</th>\n",
       "      <td>31.000000</td>\n",
       "      <td>2.000000</td>\n",
       "      <td>2.000000</td>\n",
       "      <td>6.000000</td>\n",
       "    </tr>\n",
       "    <tr>\n",
       "      <th>max</th>\n",
       "      <td>34.000000</td>\n",
       "      <td>2.000000</td>\n",
       "      <td>2.000000</td>\n",
       "      <td>8.000000</td>\n",
       "    </tr>\n",
       "  </tbody>\n",
       "</table>\n",
       "</div>"
      ],
      "text/plain": [
       "              age      gender      course    province\n",
       "count  130.000000  130.000000  130.000000  130.000000\n",
       "mean    26.607692    1.461538    1.507692    4.315385\n",
       "std      5.197638    0.500447    0.501875    2.244838\n",
       "min     18.000000    1.000000    1.000000    1.000000\n",
       "25%     22.000000    1.000000    1.000000    2.250000\n",
       "50%     27.000000    1.000000    2.000000    4.000000\n",
       "75%     31.000000    2.000000    2.000000    6.000000\n",
       "max     34.000000    2.000000    2.000000    8.000000"
      ]
     },
     "execution_count": 21,
     "metadata": {},
     "output_type": "execute_result"
    }
   ],
   "source": [
    "df.describe()"
   ]
  },
  {
   "cell_type": "code",
   "execution_count": null,
   "metadata": {},
   "outputs": [],
   "source": []
  }
 ],
 "metadata": {
  "interpreter": {
   "hash": "31f2aee4e71d21fbe5cf8b01ff0e069b9275f58929596ceb00d14d90e3e16cd6"
  },
  "kernelspec": {
   "display_name": "Python 3.8.9 64-bit",
   "language": "python",
   "name": "python3"
  },
  "language_info": {
   "codemirror_mode": {
    "name": "ipython",
    "version": 3
   },
   "file_extension": ".py",
   "mimetype": "text/x-python",
   "name": "python",
   "nbconvert_exporter": "python",
   "pygments_lexer": "ipython3",
   "version": "3.8.9"
  },
  "orig_nbformat": 4
 },
 "nbformat": 4,
 "nbformat_minor": 2
}
