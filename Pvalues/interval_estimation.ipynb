{
 "cells": [
  {
   "cell_type": "markdown",
   "metadata": {},
   "source": [
    "# Steps\n",
    "Statistical theory tells us that we can perform interval estimation through a confidence interval. We can calculate confidence intervals for the mean of a variable using the normal and t-distribution. Below are the steps that we will take while calculating our confidence interval:\n",
    "\n",
    "- Step 1: Calculating the sample mean of the variable that we are interested in.\n",
    "- Step 2: Calculating the standard error of the mean (SEM) – sample standard deviation divided by the square root of the sample size.\n",
    "- Step 3: Calculating the confidence level – this can be any level, common ones being 95% and at times even 99%. "
   ]
  },
  {
   "cell_type": "code",
   "execution_count": 1,
   "metadata": {},
   "outputs": [
    {
     "data": {
      "text/plain": [
       "(1.7604099353908769, 4.239590064609123)"
      ]
     },
     "execution_count": 1,
     "metadata": {},
     "output_type": "execute_result"
    }
   ],
   "source": [
    "# Example 1\n",
    "# ---\n",
    "# Calculate a 95% confidence interval for the mean of the given data\n",
    "# ---\n",
    "# data = [1, 2, 3, 4, 5]\n",
    "# ---\n",
    "# \n",
    "import pandas as pd\n",
    "import numpy as np\n",
    "# Importing scipy.stats\n",
    "import scipy.stats as stats\n",
    "\n",
    "# defining our data\n",
    "data = np.array([1, 2, 3, 4, 5])\n",
    "\n",
    "# Calculating the sample mean of final data\n",
    "#\n",
    "sample_mean = data.mean()\n",
    "sample_mean\n",
    "\n",
    "# Finding the sample size\n",
    "#\n",
    "sample_size = data.shape[0]\n",
    "sample_size\n",
    "\n",
    "# Finding the standard error of the mean of data \n",
    "#\n",
    "std_error = data.std() / np.sqrt(sample_size)\n",
    "std_error\n",
    "\n",
    "# Calculating the 95% Confidence Interval for mean data \n",
    "# To calculate the confidence interval, we will use the norm object from the statssubpackage. \n",
    "# The norm object has an interval() method that receives three inputs \n",
    "# – our chosen confidence interval 0.95, and the sample mean and standard error of the mean.  \n",
    "# \n",
    "stats.norm.interval(0.95, loc=sample_mean, scale=std_error)\n",
    "\n",
    "# We can be 95% certain that the population mean data is between 1.7 and 4.23"
   ]
  },
  {
   "cell_type": "markdown",
   "metadata": {},
   "source": [
    "# Challenge"
   ]
  },
  {
   "cell_type": "code",
   "execution_count": 3,
   "metadata": {},
   "outputs": [
    {
     "name": "stdout",
     "output_type": "stream",
     "text": [
      "[[186. 180. 195. 189. 191. 177. 161. 177. 192. 179. 185. 192. 169. 172.\n",
      "  191. 184. 193. 182. 190. 185. 179. 188. 179. 188. 170. 179. 195. 179.\n",
      "  169. 185. 170. 197. 187. 177. 173. 179. 195. 179. 190. 174. 195. 206.\n",
      "  180. 169. 178. 201. 180. 180. 171. 191.]]\n"
     ]
    }
   ],
   "source": [
    "# Challenge 1\n",
    "# ---\n",
    "# Determine with 95% confidence interval the average of height of Kenyan men at a national level.\n",
    "# ---\n",
    "height = [ 186.0, 180.0, 195.0, 189.0, 191.0, 177.0, 161.0, 177.0, 192.0, 179.0, 185.0, 192.0,\n",
    " 169.0, 172.0, 191.0, 184.0, 193.0, 182.0, 190.0, 185.0, 179.0, 188.0, 179.0, 188.0,\n",
    " 170.0, 179.0, 195.0, 179.0, 169.0, 185.0, 170.0, 197.0, 187.0, 177.0, 173.0, 179.0,\n",
    " 195.0, 179.0, 190.0, 174.0, 195.0, 206.0, 180.0, 169.0, 178.0, 201.0, 180.0, 180.0,\n",
    " 171.0, 191.0]\n",
    "# ---\n",
    "#\n",
    "ex_1 = np.array([height])\n",
    "print(ex_1)"
   ]
  },
  {
   "cell_type": "code",
   "execution_count": 4,
   "metadata": {},
   "outputs": [
    {
     "data": {
      "text/plain": [
       "183.06"
      ]
     },
     "execution_count": 4,
     "metadata": {},
     "output_type": "execute_result"
    }
   ],
   "source": [
    "# Calculating the sample mean of final data\n",
    "#\n",
    "mean_1 = ex_1.mean()\n",
    "mean_1"
   ]
  },
  {
   "cell_type": "code",
   "execution_count": 5,
   "metadata": {},
   "outputs": [
    {
     "data": {
      "text/plain": [
       "1"
      ]
     },
     "execution_count": 5,
     "metadata": {},
     "output_type": "execute_result"
    }
   ],
   "source": [
    "# Finding the sample size\n",
    "#\n",
    "size = ex_1.shape[0]\n",
    "size\n"
   ]
  },
  {
   "cell_type": "code",
   "execution_count": 6,
   "metadata": {},
   "outputs": [
    {
     "data": {
      "text/plain": [
       "9.422122903040483"
      ]
     },
     "execution_count": 6,
     "metadata": {},
     "output_type": "execute_result"
    }
   ],
   "source": [
    "# Finding the standard error of the mean of data \n",
    "#\n",
    "std_error = ex_1.std() / np.sqrt(size)\n",
    "std_error\n"
   ]
  },
  {
   "cell_type": "code",
   "execution_count": 7,
   "metadata": {},
   "outputs": [
    {
     "data": {
      "text/plain": [
       "(164.59297845213067, 201.52702154786934)"
      ]
     },
     "execution_count": 7,
     "metadata": {},
     "output_type": "execute_result"
    }
   ],
   "source": [
    "# Calculating the 95% Confidence Interval for mean data \n",
    "# To calculate the confidence interval, we will use the norm object from the statssubpackage. \n",
    "# The norm object has an interval() method that receives three inputs \n",
    "# – our chosen confidence interval 0.95, and the sample mean and standard error of the mean.  \n",
    "# \n",
    "stats.norm.interval(0.95, loc=mean_1, scale=std_error)"
   ]
  },
  {
   "cell_type": "markdown",
   "metadata": {},
   "source": [
    "We can be 95% certain that the population mean data is between 164.59297845213067 & 201.52702154786934"
   ]
  },
  {
   "cell_type": "markdown",
   "metadata": {},
   "source": [
    "# Challenge 2"
   ]
  },
  {
   "cell_type": "code",
   "execution_count": 8,
   "metadata": {},
   "outputs": [],
   "source": [
    "\n",
    "# ---\n",
    "# Twelve users attempted to add a channel on their digital decoder TV to a list of favorites.\n",
    "# After the task they rated the difficulty on the 7 point Single Ease Question.  \n",
    "# Compute the 95% confidence interval. The responses are shown below\n",
    "# ---\n",
    "# \n",
    "difficulty = [2, 6, 4, 1, 7, 3, 6, 1, 7, 1, 6, 5, 1, 1]\n",
    "# \n",
    "ex_2 = np.array([difficulty])"
   ]
  },
  {
   "cell_type": "code",
   "execution_count": 9,
   "metadata": {},
   "outputs": [
    {
     "data": {
      "text/plain": [
       "3.642857142857143"
      ]
     },
     "execution_count": 9,
     "metadata": {},
     "output_type": "execute_result"
    }
   ],
   "source": [
    "# Calculating the sample mean of final data\n",
    "#\n",
    "mean_2 = ex_2.mean()\n",
    "mean_2"
   ]
  },
  {
   "cell_type": "code",
   "execution_count": 10,
   "metadata": {},
   "outputs": [
    {
     "data": {
      "text/plain": [
       "1"
      ]
     },
     "execution_count": 10,
     "metadata": {},
     "output_type": "execute_result"
    }
   ],
   "source": [
    "# Finding the sample size\n",
    "#\n",
    "size2 = ex_2.shape[0]\n",
    "size2"
   ]
  },
  {
   "cell_type": "code",
   "execution_count": 23,
   "metadata": {},
   "outputs": [
    {
     "data": {
      "text/plain": [
       "2.378689400763816"
      ]
     },
     "execution_count": 23,
     "metadata": {},
     "output_type": "execute_result"
    }
   ],
   "source": [
    "# Finding the standard error of the mean of data \n",
    "#\n",
    "std_error2 = ex_2.std() / np.sqrt(size2)\n",
    "std_error2"
   ]
  },
  {
   "cell_type": "code",
   "execution_count": 24,
   "metadata": {},
   "outputs": [
    {
     "data": {
      "text/plain": [
       "(-1.0192884130470996, 8.305002698761385)"
      ]
     },
     "execution_count": 24,
     "metadata": {},
     "output_type": "execute_result"
    }
   ],
   "source": [
    "# Calculating the 95% Confidence Interval for mean data \n",
    "# To calculate the confidence interval, we will use the norm object from the statssubpackage. \n",
    "# The norm object has an interval() method that receives three inputs \n",
    "# – our chosen confidence interval 0.95, and the sample mean and standard error of the mean.  \n",
    "# \n",
    "stats.norm.interval(0.95, loc=mean_2, scale=std_error2)"
   ]
  },
  {
   "cell_type": "markdown",
   "metadata": {},
   "source": [
    "We can be 95% certain that the population mean data is between -1.0192884130470996 & 8.305002698761385"
   ]
  },
  {
   "cell_type": "markdown",
   "metadata": {},
   "source": [
    "# Challenge 3"
   ]
  },
  {
   "cell_type": "code",
   "execution_count": 18,
   "metadata": {},
   "outputs": [
    {
     "data": {
      "text/html": [
       "<div>\n",
       "<style scoped>\n",
       "    .dataframe tbody tr th:only-of-type {\n",
       "        vertical-align: middle;\n",
       "    }\n",
       "\n",
       "    .dataframe tbody tr th {\n",
       "        vertical-align: top;\n",
       "    }\n",
       "\n",
       "    .dataframe thead th {\n",
       "        text-align: right;\n",
       "    }\n",
       "</style>\n",
       "<table border=\"1\" class=\"dataframe\">\n",
       "  <thead>\n",
       "    <tr style=\"text-align: right;\">\n",
       "      <th></th>\n",
       "      <th>#_llins</th>\n",
       "      <th>location</th>\n",
       "      <th>country</th>\n",
       "      <th>when</th>\n",
       "      <th>by_whom</th>\n",
       "      <th>country_code</th>\n",
       "    </tr>\n",
       "  </thead>\n",
       "  <tbody>\n",
       "    <tr>\n",
       "      <th>0</th>\n",
       "      <td>3000</td>\n",
       "      <td>Mombasa/Siaya</td>\n",
       "      <td>Kenya</td>\n",
       "      <td>May-Jun 06</td>\n",
       "      <td>Red Cross</td>\n",
       "      <td>KEN</td>\n",
       "    </tr>\n",
       "    <tr>\n",
       "      <th>1</th>\n",
       "      <td>3000</td>\n",
       "      <td>Blan/Mch/Nkh/Nkh</td>\n",
       "      <td>Malawi</td>\n",
       "      <td>May-Jun 06</td>\n",
       "      <td>Red Cross</td>\n",
       "      <td>MWI</td>\n",
       "    </tr>\n",
       "    <tr>\n",
       "      <th>2</th>\n",
       "      <td>3000</td>\n",
       "      <td>Capr/Kava/Ohang</td>\n",
       "      <td>Namibia</td>\n",
       "      <td>May-Jun 06</td>\n",
       "      <td>Red Cross</td>\n",
       "      <td>NAM</td>\n",
       "    </tr>\n",
       "    <tr>\n",
       "      <th>3</th>\n",
       "      <td>2000</td>\n",
       "      <td>Kigali</td>\n",
       "      <td>Rwanda</td>\n",
       "      <td>May-Jun 06</td>\n",
       "      <td>Red Cross</td>\n",
       "      <td>RWA</td>\n",
       "    </tr>\n",
       "    <tr>\n",
       "      <th>4</th>\n",
       "      <td>2000</td>\n",
       "      <td>Soroti</td>\n",
       "      <td>Uganda</td>\n",
       "      <td>May-Jun 06</td>\n",
       "      <td>Red Cross</td>\n",
       "      <td>UGA</td>\n",
       "    </tr>\n",
       "  </tbody>\n",
       "</table>\n",
       "</div>"
      ],
      "text/plain": [
       "   #_llins          location  country        when    by_whom country_code\n",
       "0     3000     Mombasa/Siaya    Kenya  May-Jun 06  Red Cross          KEN\n",
       "1     3000  Blan/Mch/Nkh/Nkh   Malawi  May-Jun 06  Red Cross          MWI\n",
       "2     3000   Capr/Kava/Ohang  Namibia  May-Jun 06  Red Cross          NAM\n",
       "3     2000            Kigali   Rwanda  May-Jun 06  Red Cross          RWA\n",
       "4     2000            Soroti   Uganda  May-Jun 06  Red Cross          UGA"
      ]
     },
     "execution_count": 18,
     "metadata": {},
     "output_type": "execute_result"
    }
   ],
   "source": [
    "# Challenge 3\n",
    "# ---\n",
    "# Calculate the 95% confidence interval for the mean of longlife-life insecticide \n",
    "# treated mosquito net (LLIN) distributions by the Against Malaria Foundation.\n",
    "# ---\n",
    "# Dataset \n",
    "url = 'http://bit.ly/MalariaDataset'\n",
    "# \n",
    "ex_3 = pd.read_csv(url, encoding='latin-1')\n",
    "ex_3.head()"
   ]
  },
  {
   "cell_type": "code",
   "execution_count": 20,
   "metadata": {},
   "outputs": [
    {
     "data": {
      "text/plain": [
       "215412.89221556886"
      ]
     },
     "execution_count": 20,
     "metadata": {},
     "output_type": "execute_result"
    }
   ],
   "source": [
    "# Calculating the sample mean of final data\n",
    "#\n",
    "mean_3 = ex_3['#_llins'].mean()\n",
    "mean_3"
   ]
  },
  {
   "cell_type": "code",
   "execution_count": 21,
   "metadata": {},
   "outputs": [
    {
     "data": {
      "text/plain": [
       "167"
      ]
     },
     "execution_count": 21,
     "metadata": {},
     "output_type": "execute_result"
    }
   ],
   "source": [
    "# Finding the sample size\n",
    "#\n",
    "size3 = ex_3['#_llins'].shape[0]\n",
    "size3"
   ]
  },
  {
   "cell_type": "code",
   "execution_count": 25,
   "metadata": {},
   "outputs": [
    {
     "data": {
      "text/plain": [
       "84302.16683316056"
      ]
     },
     "execution_count": 25,
     "metadata": {},
     "output_type": "execute_result"
    }
   ],
   "source": [
    "# Finding the standard error of the mean of data \n",
    "#\n",
    "std_error3 = ex_3['#_llins'].std() / np.sqrt(size3)\n",
    "std_error3"
   ]
  },
  {
   "cell_type": "code",
   "execution_count": 26,
   "metadata": {},
   "outputs": [
    {
     "data": {
      "text/plain": [
       "(-165225.56795453888, 165232.85366882462)"
      ]
     },
     "execution_count": 26,
     "metadata": {},
     "output_type": "execute_result"
    }
   ],
   "source": [
    "# Calculating the 95% Confidence Interval for mean data \n",
    "# To calculate the confidence interval, we will use the norm object from the statssubpackage. \n",
    "# The norm object has an interval() method that receives three inputs \n",
    "# – our chosen confidence interval 0.95, and the sample mean and standard error of the mean.  \n",
    "# \n",
    "stats.norm.interval(0.95, loc=mean_2, scale=std_error3)"
   ]
  },
  {
   "cell_type": "markdown",
   "metadata": {},
   "source": [
    "We can be 95% certain that the population mean data is between -165225.56795453888 & 165232.85366882462"
   ]
  }
 ],
 "metadata": {
  "interpreter": {
   "hash": "31f2aee4e71d21fbe5cf8b01ff0e069b9275f58929596ceb00d14d90e3e16cd6"
  },
  "kernelspec": {
   "display_name": "Python 3.8.9 64-bit",
   "language": "python",
   "name": "python3"
  },
  "language_info": {
   "codemirror_mode": {
    "name": "ipython",
    "version": 3
   },
   "file_extension": ".py",
   "mimetype": "text/x-python",
   "name": "python",
   "nbconvert_exporter": "python",
   "pygments_lexer": "ipython3",
   "version": "3.8.9"
  },
  "orig_nbformat": 4
 },
 "nbformat": 4,
 "nbformat_minor": 2
}
