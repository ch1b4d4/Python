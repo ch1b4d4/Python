{
 "cells": [
  {
   "cell_type": "code",
   "execution_count": 9,
   "metadata": {},
   "outputs": [],
   "source": [
    "# Import the neccessary libarries\n",
    "import numpy as np\n",
    "import pandas as pd\n",
    "# scipy is python library will help us use statistical formulas in our code\n",
    "import scipy.stats as stats\n",
    "import random\n",
    "from numpy.random import seed\n",
    "from numpy.random import randint"
   ]
  },
  {
   "cell_type": "code",
   "execution_count": 5,
   "metadata": {},
   "outputs": [
    {
     "name": "stdout",
     "output_type": "stream",
     "text": [
      "[166.3315865  165.71527897 163.45459971 ... 165.49730283 164.88786175\n",
      " 164.21243322]\n"
     ]
    },
    {
     "data": {
      "text/plain": [
       "164.99887373021798"
      ]
     },
     "execution_count": 5,
     "metadata": {},
     "output_type": "execute_result"
    }
   ],
   "source": [
    "# We use the \"seed\" value of 10. Follow this link to learn more about numpy seed. https://www.sharpsightlabs.com/blog/numpy-random-seed/\n",
    "np.random.seed(10)\n",
    "#Use the stats module to generate random variables for our population. Here we specify our abitrary mean height and a standard deviation, which are loc and scale respectively\n",
    "population_height = stats.norm.rvs(loc=165, scale=1, size=1500000)\n",
    "print ( population_height )  \n",
    "\n",
    "# Calculate the population mean\n",
    "population_height.mean()"
   ]
  },
  {
   "cell_type": "code",
   "execution_count": 7,
   "metadata": {},
   "outputs": [
    {
     "name": "stdout",
     "output_type": "stream",
     "text": [
      "164.999551452145\n"
     ]
    },
    {
     "data": {
      "text/plain": [
       "-0.0006777219270190926"
      ]
     },
     "execution_count": 7,
     "metadata": {},
     "output_type": "execute_result"
    }
   ],
   "source": [
    "np.random.seed(6)\n",
    "# Sample 1000 values\n",
    "sample_height = np.random.choice(a= population_height,\n",
    "                               size=500000)            \n",
    "\n",
    "# Show sample mean\n",
    "print ( sample_height.mean() )                         \n",
    "\n",
    "# calculate how much the estimated mean differs from the main mean\n",
    "population_height.mean() - sample_height.mean()"
   ]
  },
  {
   "cell_type": "markdown",
   "metadata": {},
   "source": [
    "# Conclusion\n",
    "From this example we can see that based on a sample of 500,000 adults our estimator underestimates the true mean by 0.0006. We can conclude that we can get a fairly accurate estimate of a large population from a fairly small subset."
   ]
  },
  {
   "cell_type": "markdown",
   "metadata": {},
   "source": [
    "# Challenges:\n",
    "1. Suppose you are tasked to find the average age of registered voters in Kenya. Assume that the population follows a normal distribution. Find the best estimator for the population parameter"
   ]
  },
  {
   "cell_type": "markdown",
   "metadata": {},
   "source": [
    "Based on:\n",
    "- Data from 30th May 2021, the Commission has registered a total of 149,600 new voters bringing the total registered voters to 19,678,885\n",
    "\n",
    "Based on 2017 Elections\n",
    "\n",
    "-  51% of these voters are youth of age 18–35 years. \n",
    "- 26–35 year olds represents 33.41% in 2017\n",
    "- Oldest voter 102 while youngest was 18"
   ]
  },
  {
   "cell_type": "code",
   "execution_count": 12,
   "metadata": {},
   "outputs": [
    {
     "data": {
      "text/plain": [
       "84.41"
      ]
     },
     "execution_count": 12,
     "metadata": {},
     "output_type": "execute_result"
    }
   ],
   "source": [
    "total_voters_perc = 51 + 33.41\n",
    "total_voters_perc"
   ]
  },
  {
   "cell_type": "code",
   "execution_count": 20,
   "metadata": {},
   "outputs": [
    {
     "data": {
      "text/plain": [
       "16610947.6726"
      ]
     },
     "execution_count": 20,
     "metadata": {},
     "output_type": "execute_result"
    }
   ],
   "source": [
    "\n",
    "voters = randint(1, 19678885, 19678886)\n",
    "total = 0.8441 * len(voters)\n",
    "total"
   ]
  },
  {
   "cell_type": "code",
   "execution_count": 23,
   "metadata": {},
   "outputs": [
    {
     "data": {
      "text/plain": [
       "array([49, 98, 35, ..., 41, 46, 60])"
      ]
     },
     "execution_count": 23,
     "metadata": {},
     "output_type": "execute_result"
    }
   ],
   "source": [
    "total_voters = randint(18, 102, 16610947)\n",
    "total_voters"
   ]
  },
  {
   "cell_type": "code",
   "execution_count": 30,
   "metadata": {},
   "outputs": [
    {
     "data": {
      "text/plain": [
       "59.490494732178725"
      ]
     },
     "execution_count": 30,
     "metadata": {},
     "output_type": "execute_result"
    }
   ],
   "source": [
    "(total_voters).mean()"
   ]
  },
  {
   "cell_type": "code",
   "execution_count": 31,
   "metadata": {},
   "outputs": [
    {
     "name": "stdout",
     "output_type": "stream",
     "text": [
      "[60.3315865  59.71527897 57.45459971 ... 59.11217285 59.22130285\n",
      " 59.11005255]\n"
     ]
    },
    {
     "data": {
      "text/plain": [
       "59.00027874196993"
      ]
     },
     "execution_count": 31,
     "metadata": {},
     "output_type": "execute_result"
    }
   ],
   "source": [
    "# We use the \"seed\" value of 10. Follow this link to learn more about numpy seed. https://www.sharpsightlabs.com/blog/numpy-random-seed/\n",
    "np.random.seed(10)\n",
    "#Use the stats module to generate random variables for our population. Here we specify our abitrary mean height and a standard deviation, which are loc and scale respectively\n",
    "voters_age = stats.norm.rvs(loc=59, scale=1, size=16610947)\n",
    "print ( voters_age )  \n",
    "\n",
    "#Calculate the population mean\n",
    "voters_age.mean()"
   ]
  },
  {
   "cell_type": "code",
   "execution_count": 32,
   "metadata": {},
   "outputs": [
    {
     "name": "stdout",
     "output_type": "stream",
     "text": [
      "58.999986536718716\n"
     ]
    },
    {
     "data": {
      "text/plain": [
       "0.00029220525121331775"
      ]
     },
     "execution_count": 32,
     "metadata": {},
     "output_type": "execute_result"
    }
   ],
   "source": [
    "np.random.seed(6)\n",
    "# Sample 1000 values\n",
    "sample_age = np.random.choice(a= voters_age,\n",
    "                               size=1500000)            \n",
    "\n",
    "# Show sample mean\n",
    "print ( sample_age.mean() )                         \n",
    "\n",
    "# calculate how much the estimated mean differs from the main mean\n",
    "voters_age.mean() - sample_age.mean()"
   ]
  },
  {
   "cell_type": "markdown",
   "metadata": {},
   "source": [
    "# Conclusion\n",
    "the difference in the means confirms the average age of 58 - 58 years for the voter in Kenya "
   ]
  }
 ],
 "metadata": {
  "interpreter": {
   "hash": "31f2aee4e71d21fbe5cf8b01ff0e069b9275f58929596ceb00d14d90e3e16cd6"
  },
  "kernelspec": {
   "display_name": "Python 3.8.9 64-bit",
   "language": "python",
   "name": "python3"
  },
  "language_info": {
   "codemirror_mode": {
    "name": "ipython",
    "version": 3
   },
   "file_extension": ".py",
   "mimetype": "text/x-python",
   "name": "python",
   "nbconvert_exporter": "python",
   "pygments_lexer": "ipython3",
   "version": "3.8.9"
  },
  "orig_nbformat": 4
 },
 "nbformat": 4,
 "nbformat_minor": 2
}
